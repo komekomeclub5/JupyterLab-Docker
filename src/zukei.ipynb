{
 "cells": [
  {
   "cell_type": "code",
   "execution_count": 1,
   "metadata": {},
   "outputs": [],
   "source": [
    "from tkinter import *\n",
    "\n",
    "# ウインドウを作成\n",
    "\n",
    "win = Tk()\n",
    "\n",
    "# 描画のためのキャンパスを作成\n",
    "\n",
    "cv = Canvas(win, width = 400, height = 300)\n",
    "\n",
    "cv.pack()\n",
    "\n",
    "cv.create_oval(\n",
    "    120, 120, 240,240,\n",
    "    fill = \"red\",\n",
    "    outline = \"green\", width=2)\n",
    "\n",
    "cv.create_polygon(\n",
    "    210, 290, 390, 290, 390, 140,\n",
    "    fill = \"blue\",\n",
    "    outline = \"red\", width=2)\n",
    "\n",
    "cv.create_rectangle(\n",
    "    10, 10, 130,110,\n",
    "    fill = \"green\",\n",
    "    outline = \"red\", width=2)\n",
    "\n",
    "win.mainloop()"
   ]
  },
  {
   "cell_type": "code",
   "execution_count": 2,
   "metadata": {},
   "outputs": [],
   "source": [
    "import tkinter as tk\n",
    "root = tk.Tk()\n",
    "root.mainloop()"
   ]
  },
  {
   "cell_type": "code",
   "execution_count": null,
   "metadata": {},
   "outputs": [],
   "source": []
  },
  {
   "cell_type": "code",
   "execution_count": null,
   "metadata": {},
   "outputs": [],
   "source": []
  }
 ],
 "metadata": {
  "kernelspec": {
   "display_name": "Python 3",
   "language": "python",
   "name": "python3"
  },
  "language_info": {
   "codemirror_mode": {
    "name": "ipython",
    "version": 3
   },
   "file_extension": ".py",
   "mimetype": "text/x-python",
   "name": "python",
   "nbconvert_exporter": "python",
   "pygments_lexer": "ipython3",
   "version": "3.8.6"
  }
 },
 "nbformat": 4,
 "nbformat_minor": 4
}
